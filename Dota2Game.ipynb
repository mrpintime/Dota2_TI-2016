{
  "nbformat": 4,
  "nbformat_minor": 0,
  "metadata": {
    "colab": {
      "provenance": [],
      "mount_file_id": "1U1XkA0xYmWCkRacXAtQDywA36-klmxmF",
      "authorship_tag": "ABX9TyPE3ZrutfaZf68ATIzWUUMP",
      "include_colab_link": true
    },
    "kernelspec": {
      "name": "python3",
      "display_name": "Python 3"
    },
    "language_info": {
      "name": "python"
    }
  },
  "cells": [
    {
      "cell_type": "markdown",
      "metadata": {
        "id": "view-in-github",
        "colab_type": "text"
      },
      "source": [
        "<a href=\"https://colab.research.google.com/github/mrpintime/Dota2_TI-2016/blob/main/Dota2Game.ipynb\" target=\"_parent\"><img src=\"https://colab.research.google.com/assets/colab-badge.svg\" alt=\"Open In Colab\"/></a>"
      ]
    },
    {
      "cell_type": "markdown",
      "source": [
        "# Dota2 TI 2016 Team Performance\n",
        "Created by Mrpintime\n"
      ],
      "metadata": {
        "id": "uoZP9LCauXOj"
      }
    },
    {
      "cell_type": "markdown",
      "source": [
        "# Dataset Description\n",
        "\n",
        "Dota 2 is a popular computer game with two teams of 5 players. At the start of the game each player chooses a unique hero with different strengths and weaknesses. The dataset is reasonably sparse as only 10 of 113 possible heroes are chosen in a given game. All games were played in a space of 2 hours on the 13th of August, 2016\n",
        "\n",
        "The data was collected using: https://gist.github.com/da-steve101/1a7ae319448db431715bd75391a66e1b\n",
        "\n",
        "\n",
        "Each row of the dataset is a single game with the following features (in the order in the vector):\n",
        "1. Team won the game (1 or -1)\n",
        "2. Cluster ID (related to location)\n",
        "3. Game mode (eg All Pick)\n",
        "4. Game type (eg. Ranked)\n",
        "5 - end: Each element is an indicator for a hero. Value of 1 indicates that a player from team '1' played as that hero and '-1' for the other team. Hero can be selected by only one player each game. This means that each row has five '1' and five '-1' values.\n",
        "\n",
        "The hero to id mapping can be found here: https://github.com/kronusme/dota2-api/blob/master/data/heroes.json\n",
        "Dataset Url: https://archive.ics.uci.edu/dataset/367/dota2+games+results"
      ],
      "metadata": {
        "id": "S0Gi1xx0upI5"
      }
    },
    {
      "cell_type": "markdown",
      "source": [
        "# Problem\n",
        "We want to know can we predict winner of the games with these features and before end the game ?:)\n",
        "and find out which hero has more impact on games ?\n",
        "and find out which team did better but could not win the game ?"
      ],
      "metadata": {
        "id": "vQNUcxm3u6MN"
      }
    },
    {
      "cell_type": "markdown",
      "source": [
        "# Data Wrangling"
      ],
      "metadata": {
        "id": "4zCJt33YvPZS"
      }
    },
    {
      "cell_type": "markdown",
      "source": [
        "Import necessary Libraries"
      ],
      "metadata": {
        "id": "nOIJO3iQvoB_"
      }
    },
    {
      "cell_type": "code",
      "source": [
        "import pandas as pd, seaborn as sns, numpy as np, matplotlib.pyplot as plt"
      ],
      "metadata": {
        "id": "U2zeyTZEvsEC"
      },
      "execution_count": 1,
      "outputs": []
    },
    {
      "cell_type": "markdown",
      "source": [
        "**Note**: you can use high level libraries like Dataprep to do data cleaning and exploratory data analysis but i suggest you if you want to learn and be dominant on your data science knowledge use fundamental libraries like pandas, numpy and ..."
      ],
      "metadata": {
        "id": "P9WSBteKwA4P"
      }
    },
    {
      "cell_type": "markdown",
      "source": [
        "Download dataset form UCI site"
      ],
      "metadata": {
        "id": "CrzmWHGBw3su"
      }
    },
    {
      "cell_type": "code",
      "source": [
        "! curl https://archive.ics.uci.edu/static/public/367/dota2+games+results.zip --output dota2.zip"
      ],
      "metadata": {
        "colab": {
          "base_uri": "https://localhost:8080/"
        },
        "id": "BHi9E5FuxBUs",
        "outputId": "4b6241bf-573a-4dd1-ebb0-0f5cb907f166"
      },
      "execution_count": 3,
      "outputs": [
        {
          "output_type": "stream",
          "name": "stdout",
          "text": [
            "  % Total    % Received % Xferd  Average Speed   Time    Time     Time  Current\n",
            "                                 Dload  Upload   Total   Spent    Left  Speed\n",
            "100 1778k    0 1778k    0     0  2429k      0 --:--:-- --:--:-- --:--:-- 2429k\n"
          ]
        }
      ]
    },
    {
      "cell_type": "markdown",
      "source": [
        "Save files on google drive to reuse them."
      ],
      "metadata": {
        "id": "edSXtFUyxF86"
      }
    },
    {
      "cell_type": "code",
      "source": [
        "!cp \"/content/dota2.zip\" \"/content/drive/MyDrive/Dota2/\""
      ],
      "metadata": {
        "id": "Y1ypy5Sfxbj7"
      },
      "execution_count": 4,
      "outputs": []
    },
    {
      "cell_type": "code",
      "source": [
        "!unzip \"/content/drive/MyDrive/Dota2/dota2.zip\" -d \"/content/drive/MyDrive/Dota2/\""
      ],
      "metadata": {
        "colab": {
          "base_uri": "https://localhost:8080/"
        },
        "id": "Gsy2SbQ9x_5s",
        "outputId": "d739052a-b350-46c0-cbbf-6be0e6953f04"
      },
      "execution_count": 7,
      "outputs": [
        {
          "output_type": "stream",
          "name": "stdout",
          "text": [
            "Archive:  /content/drive/MyDrive/Dota2/dota2.zip\n",
            "  inflating: /content/drive/MyDrive/Dota2/dota2Train.csv  \n",
            "  inflating: /content/drive/MyDrive/Dota2/dota2Test.csv  \n"
          ]
        }
      ]
    },
    {
      "cell_type": "markdown",
      "source": [
        "So we saved our datasets to our drive google drive, as you can see we have to seperate dataset as test and train, we have to check them for data preprocessing."
      ],
      "metadata": {
        "id": "SezLRDG3ybQa"
      }
    },
    {
      "cell_type": "markdown",
      "source": [
        "## Data Cleaning"
      ],
      "metadata": {
        "id": "4QbNid3_vVQb"
      }
    },
    {
      "cell_type": "markdown",
      "source": [
        "We need to import datasets and clean them."
      ],
      "metadata": {
        "id": "PHeFgWKNzSXp"
      }
    },
    {
      "cell_type": "code",
      "source": [],
      "metadata": {
        "id": "FqpcogfGzG5H"
      },
      "execution_count": null,
      "outputs": []
    }
  ]
}