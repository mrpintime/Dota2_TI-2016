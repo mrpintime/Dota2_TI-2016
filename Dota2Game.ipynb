{
  "nbformat": 4,
  "nbformat_minor": 0,
  "metadata": {
    "colab": {
      "provenance": [],
      "mount_file_id": "https://github.com/mrpintime/Dota2_TI-2016/blob/main/Dota2Game.ipynb",
      "authorship_tag": "ABX9TyPomZH3FbJJy08hlXG48H4Q",
      "include_colab_link": true
    },
    "kernelspec": {
      "name": "python3",
      "display_name": "Python 3"
    },
    "language_info": {
      "name": "python"
    }
  },
  "cells": [
    {
      "cell_type": "markdown",
      "metadata": {
        "id": "view-in-github",
        "colab_type": "text"
      },
      "source": [
        "<a href=\"https://colab.research.google.com/github/mrpintime/Dota2_TI-2016/blob/main/Dota2Game.ipynb\" target=\"_parent\"><img src=\"https://colab.research.google.com/assets/colab-badge.svg\" alt=\"Open In Colab\"/></a>"
      ]
    },
    {
      "cell_type": "markdown",
      "source": [
        "# Dota2 TI 2016 Team Performance\n",
        "Created by Mrpintime\n"
      ],
      "metadata": {
        "id": "uoZP9LCauXOj"
      }
    },
    {
      "cell_type": "markdown",
      "source": [
        "# Dataset Description\n",
        "\n",
        "Dota 2 is a popular computer game with two teams of 5 players. At the start of the game each player chooses a unique hero with different strengths and weaknesses. The dataset is reasonably sparse as only 10 of 113 possible heroes are chosen in a given game. All games were played in a space of 2 hours on the 13th of August, 2016\n",
        "\n",
        "The data was collected using: https://gist.github.com/da-steve101/1a7ae319448db431715bd75391a66e1b\n",
        "\n",
        "\n",
        "Each row of the dataset is a single game with the following features (in the order in the vector):\n",
        "1. Team won the game (1 or -1)\n",
        "2. Cluster ID (related to location)\n",
        "3. Game mode (eg All Pick)\n",
        "4. Game type (eg. Ranked)\n",
        "5 - end: Each element is an indicator for a hero. Value of 1 indicates that a player from team '1' played as that hero and '-1' for the other team. Hero can be selected by only one player each game. This means that each row has five '1' and five '-1' values.\n",
        "\n",
        "The hero to id mapping can be found here: https://github.com/kronusme/dota2-api/blob/master/data/heroes.json\n",
        "Dataset Url: https://archive.ics.uci.edu/dataset/367/dota2+games+results"
      ],
      "metadata": {
        "id": "S0Gi1xx0upI5"
      }
    },
    {
      "cell_type": "markdown",
      "source": [
        "# Problem\n",
        "We want to know can we predict winner of the games with these features and before end the game ?:)\n",
        "and find out which hero has more impact on games ?\n",
        "and find out which team did better but could not win the game ?"
      ],
      "metadata": {
        "id": "vQNUcxm3u6MN"
      }
    },
    {
      "cell_type": "markdown",
      "source": [
        "# Data Wrangling"
      ],
      "metadata": {
        "id": "4zCJt33YvPZS"
      }
    },
    {
      "cell_type": "markdown",
      "source": [
        "Import necessary Libraries"
      ],
      "metadata": {
        "id": "nOIJO3iQvoB_"
      }
    },
    {
      "cell_type": "code",
      "source": [
        "import pandas as pd, seaborn as sns, numpy as np, matplotlib.pyplot as plt"
      ],
      "metadata": {
        "id": "U2zeyTZEvsEC"
      },
      "execution_count": 1,
      "outputs": []
    },
    {
      "cell_type": "markdown",
      "source": [
        "**Note**: you can use high level libraries like Dataprep to do data cleaning and exploratory data analysis but i suggest you if you want to learn and be dominant on your data science knowledge use fundamental libraries like pandas, numpy and ..."
      ],
      "metadata": {
        "id": "P9WSBteKwA4P"
      }
    },
    {
      "cell_type": "markdown",
      "source": [
        "Download dataset form UCI site"
      ],
      "metadata": {
        "id": "CrzmWHGBw3su"
      }
    },
    {
      "cell_type": "code",
      "source": [
        "# ! curl https://archive.ics.uci.edu/static/public/367/dota2+games+results.zip --output dota2.zip"
      ],
      "metadata": {
        "id": "BHi9E5FuxBUs"
      },
      "execution_count": 2,
      "outputs": []
    },
    {
      "cell_type": "markdown",
      "source": [
        "Save files on google drive to reuse them."
      ],
      "metadata": {
        "id": "edSXtFUyxF86"
      }
    },
    {
      "cell_type": "code",
      "source": [
        "# !cp \"/content/dota2.zip\" \"/content/drive/MyDrive/Dota2/\""
      ],
      "metadata": {
        "id": "Y1ypy5Sfxbj7"
      },
      "execution_count": 3,
      "outputs": []
    },
    {
      "cell_type": "code",
      "source": [
        "# !unzip \"/content/drive/MyDrive/Dota2/dota2.zip\" -d \"/content/drive/MyDrive/Dota2/\""
      ],
      "metadata": {
        "id": "Gsy2SbQ9x_5s"
      },
      "execution_count": 4,
      "outputs": []
    },
    {
      "cell_type": "markdown",
      "source": [
        "So we saved our datasets to our drive google drive, as you can see we have to seperate dataset as test and train, we have to check them for data preprocessing."
      ],
      "metadata": {
        "id": "SezLRDG3ybQa"
      }
    },
    {
      "cell_type": "markdown",
      "source": [
        "## Data Cleaning"
      ],
      "metadata": {
        "id": "4QbNid3_vVQb"
      }
    },
    {
      "cell_type": "markdown",
      "source": [
        "We need to import datasets and clean them."
      ],
      "metadata": {
        "id": "PHeFgWKNzSXp"
      }
    },
    {
      "cell_type": "code",
      "source": [
        "df_trn = pd.read_csv('/content/drive/MyDrive/Dota2/dota2Train.csv')\n",
        "df_tst = pd.read_csv('/content/drive/MyDrive/Dota2/dota2Test.csv')"
      ],
      "metadata": {
        "id": "FqpcogfGzG5H"
      },
      "execution_count": 5,
      "outputs": []
    },
    {
      "cell_type": "code",
      "source": [
        "df_trn.shape, df_tst.shape"
      ],
      "metadata": {
        "id": "xlL7LP28oUTs",
        "outputId": "ed7ed06b-e8a2-48be-d6f4-235f685718c7",
        "colab": {
          "base_uri": "https://localhost:8080/"
        }
      },
      "execution_count": 6,
      "outputs": [
        {
          "output_type": "execute_result",
          "data": {
            "text/plain": [
              "((92649, 117), (10293, 117))"
            ]
          },
          "metadata": {},
          "execution_count": 6
        }
      ]
    },
    {
      "cell_type": "code",
      "source": [
        "df_trn.isnull().sum().sum(), df_tst.isnull().sum().sum()"
      ],
      "metadata": {
        "id": "GqS6JNbdoZY8",
        "outputId": "0b625c38-fb1b-4e78-c022-1ede9d863dd0",
        "colab": {
          "base_uri": "https://localhost:8080/"
        }
      },
      "execution_count": 7,
      "outputs": [
        {
          "output_type": "execute_result",
          "data": {
            "text/plain": [
              "(0, 0)"
            ]
          },
          "metadata": {},
          "execution_count": 7
        }
      ]
    },
    {
      "cell_type": "markdown",
      "source": [
        "Hoorayyyy, we do not have any null value in train and test set."
      ],
      "metadata": {
        "id": "hq8ot-ptovyg"
      }
    },
    {
      "cell_type": "code",
      "source": [
        "df_trn.head()"
      ],
      "metadata": {
        "id": "nBPfxDmKogQ4",
        "outputId": "e60ef52a-9b47-45c5-88be-c5092acfbed1",
        "colab": {
          "base_uri": "https://localhost:8080/",
          "height": 236
        }
      },
      "execution_count": 8,
      "outputs": [
        {
          "output_type": "execute_result",
          "data": {
            "text/plain": [
              "   -1  223  2  2.1  0  0.1  0.2  0.3  0.4  0.5  ...  0.93  0.94  0.95  0.96  \\\n",
              "0   1  152  2    2  0    0    0    1    0   -1  ...     0     0     0     0   \n",
              "1   1  131  2    2  0    0    0    1    0   -1  ...     0     0     0     0   \n",
              "2   1  154  2    2  0    0    0    0    0    0  ...    -1     0     0     0   \n",
              "3  -1  171  2    3  0    0    0    0    0   -1  ...     0     0     0     0   \n",
              "4   1  122  2    3  0    1    0    0    0    0  ...     1     0     0     0   \n",
              "\n",
              "   0.97  0.98  0.99  0.100  0.101  0.102  \n",
              "0     0     0     0      0      0      0  \n",
              "1     0     0     0      0      0      0  \n",
              "2     0     0     0      0      0      0  \n",
              "3     0     0     0      0      0      0  \n",
              "4     0     0     0      0      0     -1  \n",
              "\n",
              "[5 rows x 117 columns]"
            ],
            "text/html": [
              "\n",
              "  <div id=\"df-12c886d3-9f72-4c68-8fe4-58d49cea5688\">\n",
              "    <div class=\"colab-df-container\">\n",
              "      <div>\n",
              "<style scoped>\n",
              "    .dataframe tbody tr th:only-of-type {\n",
              "        vertical-align: middle;\n",
              "    }\n",
              "\n",
              "    .dataframe tbody tr th {\n",
              "        vertical-align: top;\n",
              "    }\n",
              "\n",
              "    .dataframe thead th {\n",
              "        text-align: right;\n",
              "    }\n",
              "</style>\n",
              "<table border=\"1\" class=\"dataframe\">\n",
              "  <thead>\n",
              "    <tr style=\"text-align: right;\">\n",
              "      <th></th>\n",
              "      <th>-1</th>\n",
              "      <th>223</th>\n",
              "      <th>2</th>\n",
              "      <th>2.1</th>\n",
              "      <th>0</th>\n",
              "      <th>0.1</th>\n",
              "      <th>0.2</th>\n",
              "      <th>0.3</th>\n",
              "      <th>0.4</th>\n",
              "      <th>0.5</th>\n",
              "      <th>...</th>\n",
              "      <th>0.93</th>\n",
              "      <th>0.94</th>\n",
              "      <th>0.95</th>\n",
              "      <th>0.96</th>\n",
              "      <th>0.97</th>\n",
              "      <th>0.98</th>\n",
              "      <th>0.99</th>\n",
              "      <th>0.100</th>\n",
              "      <th>0.101</th>\n",
              "      <th>0.102</th>\n",
              "    </tr>\n",
              "  </thead>\n",
              "  <tbody>\n",
              "    <tr>\n",
              "      <th>0</th>\n",
              "      <td>1</td>\n",
              "      <td>152</td>\n",
              "      <td>2</td>\n",
              "      <td>2</td>\n",
              "      <td>0</td>\n",
              "      <td>0</td>\n",
              "      <td>0</td>\n",
              "      <td>1</td>\n",
              "      <td>0</td>\n",
              "      <td>-1</td>\n",
              "      <td>...</td>\n",
              "      <td>0</td>\n",
              "      <td>0</td>\n",
              "      <td>0</td>\n",
              "      <td>0</td>\n",
              "      <td>0</td>\n",
              "      <td>0</td>\n",
              "      <td>0</td>\n",
              "      <td>0</td>\n",
              "      <td>0</td>\n",
              "      <td>0</td>\n",
              "    </tr>\n",
              "    <tr>\n",
              "      <th>1</th>\n",
              "      <td>1</td>\n",
              "      <td>131</td>\n",
              "      <td>2</td>\n",
              "      <td>2</td>\n",
              "      <td>0</td>\n",
              "      <td>0</td>\n",
              "      <td>0</td>\n",
              "      <td>1</td>\n",
              "      <td>0</td>\n",
              "      <td>-1</td>\n",
              "      <td>...</td>\n",
              "      <td>0</td>\n",
              "      <td>0</td>\n",
              "      <td>0</td>\n",
              "      <td>0</td>\n",
              "      <td>0</td>\n",
              "      <td>0</td>\n",
              "      <td>0</td>\n",
              "      <td>0</td>\n",
              "      <td>0</td>\n",
              "      <td>0</td>\n",
              "    </tr>\n",
              "    <tr>\n",
              "      <th>2</th>\n",
              "      <td>1</td>\n",
              "      <td>154</td>\n",
              "      <td>2</td>\n",
              "      <td>2</td>\n",
              "      <td>0</td>\n",
              "      <td>0</td>\n",
              "      <td>0</td>\n",
              "      <td>0</td>\n",
              "      <td>0</td>\n",
              "      <td>0</td>\n",
              "      <td>...</td>\n",
              "      <td>-1</td>\n",
              "      <td>0</td>\n",
              "      <td>0</td>\n",
              "      <td>0</td>\n",
              "      <td>0</td>\n",
              "      <td>0</td>\n",
              "      <td>0</td>\n",
              "      <td>0</td>\n",
              "      <td>0</td>\n",
              "      <td>0</td>\n",
              "    </tr>\n",
              "    <tr>\n",
              "      <th>3</th>\n",
              "      <td>-1</td>\n",
              "      <td>171</td>\n",
              "      <td>2</td>\n",
              "      <td>3</td>\n",
              "      <td>0</td>\n",
              "      <td>0</td>\n",
              "      <td>0</td>\n",
              "      <td>0</td>\n",
              "      <td>0</td>\n",
              "      <td>-1</td>\n",
              "      <td>...</td>\n",
              "      <td>0</td>\n",
              "      <td>0</td>\n",
              "      <td>0</td>\n",
              "      <td>0</td>\n",
              "      <td>0</td>\n",
              "      <td>0</td>\n",
              "      <td>0</td>\n",
              "      <td>0</td>\n",
              "      <td>0</td>\n",
              "      <td>0</td>\n",
              "    </tr>\n",
              "    <tr>\n",
              "      <th>4</th>\n",
              "      <td>1</td>\n",
              "      <td>122</td>\n",
              "      <td>2</td>\n",
              "      <td>3</td>\n",
              "      <td>0</td>\n",
              "      <td>1</td>\n",
              "      <td>0</td>\n",
              "      <td>0</td>\n",
              "      <td>0</td>\n",
              "      <td>0</td>\n",
              "      <td>...</td>\n",
              "      <td>1</td>\n",
              "      <td>0</td>\n",
              "      <td>0</td>\n",
              "      <td>0</td>\n",
              "      <td>0</td>\n",
              "      <td>0</td>\n",
              "      <td>0</td>\n",
              "      <td>0</td>\n",
              "      <td>0</td>\n",
              "      <td>-1</td>\n",
              "    </tr>\n",
              "  </tbody>\n",
              "</table>\n",
              "<p>5 rows × 117 columns</p>\n",
              "</div>\n",
              "      <button class=\"colab-df-convert\" onclick=\"convertToInteractive('df-12c886d3-9f72-4c68-8fe4-58d49cea5688')\"\n",
              "              title=\"Convert this dataframe to an interactive table.\"\n",
              "              style=\"display:none;\">\n",
              "        \n",
              "  <svg xmlns=\"http://www.w3.org/2000/svg\" height=\"24px\"viewBox=\"0 0 24 24\"\n",
              "       width=\"24px\">\n",
              "    <path d=\"M0 0h24v24H0V0z\" fill=\"none\"/>\n",
              "    <path d=\"M18.56 5.44l.94 2.06.94-2.06 2.06-.94-2.06-.94-.94-2.06-.94 2.06-2.06.94zm-11 1L8.5 8.5l.94-2.06 2.06-.94-2.06-.94L8.5 2.5l-.94 2.06-2.06.94zm10 10l.94 2.06.94-2.06 2.06-.94-2.06-.94-.94-2.06-.94 2.06-2.06.94z\"/><path d=\"M17.41 7.96l-1.37-1.37c-.4-.4-.92-.59-1.43-.59-.52 0-1.04.2-1.43.59L10.3 9.45l-7.72 7.72c-.78.78-.78 2.05 0 2.83L4 21.41c.39.39.9.59 1.41.59.51 0 1.02-.2 1.41-.59l7.78-7.78 2.81-2.81c.8-.78.8-2.07 0-2.86zM5.41 20L4 18.59l7.72-7.72 1.47 1.35L5.41 20z\"/>\n",
              "  </svg>\n",
              "      </button>\n",
              "      \n",
              "  <style>\n",
              "    .colab-df-container {\n",
              "      display:flex;\n",
              "      flex-wrap:wrap;\n",
              "      gap: 12px;\n",
              "    }\n",
              "\n",
              "    .colab-df-convert {\n",
              "      background-color: #E8F0FE;\n",
              "      border: none;\n",
              "      border-radius: 50%;\n",
              "      cursor: pointer;\n",
              "      display: none;\n",
              "      fill: #1967D2;\n",
              "      height: 32px;\n",
              "      padding: 0 0 0 0;\n",
              "      width: 32px;\n",
              "    }\n",
              "\n",
              "    .colab-df-convert:hover {\n",
              "      background-color: #E2EBFA;\n",
              "      box-shadow: 0px 1px 2px rgba(60, 64, 67, 0.3), 0px 1px 3px 1px rgba(60, 64, 67, 0.15);\n",
              "      fill: #174EA6;\n",
              "    }\n",
              "\n",
              "    [theme=dark] .colab-df-convert {\n",
              "      background-color: #3B4455;\n",
              "      fill: #D2E3FC;\n",
              "    }\n",
              "\n",
              "    [theme=dark] .colab-df-convert:hover {\n",
              "      background-color: #434B5C;\n",
              "      box-shadow: 0px 1px 3px 1px rgba(0, 0, 0, 0.15);\n",
              "      filter: drop-shadow(0px 1px 2px rgba(0, 0, 0, 0.3));\n",
              "      fill: #FFFFFF;\n",
              "    }\n",
              "  </style>\n",
              "\n",
              "      <script>\n",
              "        const buttonEl =\n",
              "          document.querySelector('#df-12c886d3-9f72-4c68-8fe4-58d49cea5688 button.colab-df-convert');\n",
              "        buttonEl.style.display =\n",
              "          google.colab.kernel.accessAllowed ? 'block' : 'none';\n",
              "\n",
              "        async function convertToInteractive(key) {\n",
              "          const element = document.querySelector('#df-12c886d3-9f72-4c68-8fe4-58d49cea5688');\n",
              "          const dataTable =\n",
              "            await google.colab.kernel.invokeFunction('convertToInteractive',\n",
              "                                                     [key], {});\n",
              "          if (!dataTable) return;\n",
              "\n",
              "          const docLinkHtml = 'Like what you see? Visit the ' +\n",
              "            '<a target=\"_blank\" href=https://colab.research.google.com/notebooks/data_table.ipynb>data table notebook</a>'\n",
              "            + ' to learn more about interactive tables.';\n",
              "          element.innerHTML = '';\n",
              "          dataTable['output_type'] = 'display_data';\n",
              "          await google.colab.output.renderOutput(dataTable, element);\n",
              "          const docLink = document.createElement('div');\n",
              "          docLink.innerHTML = docLinkHtml;\n",
              "          element.appendChild(docLink);\n",
              "        }\n",
              "      </script>\n",
              "    </div>\n",
              "  </div>\n",
              "  "
            ]
          },
          "metadata": {},
          "execution_count": 8
        }
      ]
    },
    {
      "cell_type": "markdown",
      "source": [
        "> Column '-1' is for status of game or which team is winner at the end of the game.\n",
        "---\n",
        "> Column '223' is related to server location that two team play in it. [Link](https://github.com/kronusme/dota2-api/blob/master/data/regions.json)\n",
        "---\n",
        "> Column '2' is for game mode.   [Link](https://github.com/kronusme/dota2-api/blob/master/data/mods.json)\n",
        "---\n",
        "> Column '2.1' is for game type. [Link](https://github.com/kronusme/dota2-api/blob/master/data/lobbies.json)\n",
        "---\n",
        "> All other columns indicate a heros in the game. [Link](https://github.com/kronusme/dota2-api/blob/master/data/heroes.json)"
      ],
      "metadata": {
        "id": "BvsiDct-vShC"
      }
    },
    {
      "cell_type": "code",
      "source": [
        "df_trn.iloc[0, 4:].value_counts()"
      ],
      "metadata": {
        "id": "W_maUep6rIeP",
        "outputId": "d2c2fa99-9d5a-4258-bbe7-0da1e4173217",
        "colab": {
          "base_uri": "https://localhost:8080/"
        }
      },
      "execution_count": 9,
      "outputs": [
        {
          "output_type": "execute_result",
          "data": {
            "text/plain": [
              " 0    103\n",
              " 1      5\n",
              "-1      5\n",
              "Name: 0, dtype: int64"
            ]
          },
          "metadata": {},
          "execution_count": 9
        }
      ]
    },
    {
      "cell_type": "markdown",
      "source": [
        "We can see as was in description each row contains 5 heros to one team and 5 to another team that indicate with 1 and -1 and all other heros value set to 0.  \n",
        "in Overall we have 113 heros in game.  \n",
        "You can see all heros here : [Link](https://github.com/kronusme/dota2-api/blob/master/data/heroes.json)   "
      ],
      "metadata": {
        "id": "-FIkrfSKtqqe"
      }
    },
    {
      "cell_type": "code",
      "source": [
        "# ['Won', 'Server', 'Game_mode', 'Game_type']+ hero_list"
      ],
      "metadata": {
        "id": "VHcNMzxsxrcu"
      },
      "execution_count": 10,
      "outputs": []
    },
    {
      "cell_type": "code",
      "source": [
        "hero_list = [f'Hero_{i+1}' for i in range(113)]\n",
        "new_columns_name = ['Won', 'Server', 'Game_mode', 'Game_type'] + hero_list"
      ],
      "metadata": {
        "id": "OZx7LimfxCV0"
      },
      "execution_count": 11,
      "outputs": []
    },
    {
      "cell_type": "code",
      "source": [
        "df_trn.columns = new_columns_name"
      ],
      "metadata": {
        "id": "BLbazlUcuWsh"
      },
      "execution_count": 12,
      "outputs": []
    },
    {
      "cell_type": "code",
      "source": [
        "df_trn.head()"
      ],
      "metadata": {
        "id": "Lm6spQOnr9bU",
        "outputId": "1c28aaa1-79eb-4647-f97d-bb4be2e88468",
        "colab": {
          "base_uri": "https://localhost:8080/",
          "height": 300
        }
      },
      "execution_count": 13,
      "outputs": [
        {
          "output_type": "execute_result",
          "data": {
            "text/plain": [
              "   Won  Server  Game_mode  Game_type  Hero_1  Hero_2  Hero_3  Hero_4  Hero_5  \\\n",
              "0    1     152          2          2       0       0       0       1       0   \n",
              "1    1     131          2          2       0       0       0       1       0   \n",
              "2    1     154          2          2       0       0       0       0       0   \n",
              "3   -1     171          2          3       0       0       0       0       0   \n",
              "4    1     122          2          3       0       1       0       0       0   \n",
              "\n",
              "   Hero_6  ...  Hero_104  Hero_105  Hero_106  Hero_107  Hero_108  Hero_109  \\\n",
              "0      -1  ...         0         0         0         0         0         0   \n",
              "1      -1  ...         0         0         0         0         0         0   \n",
              "2       0  ...        -1         0         0         0         0         0   \n",
              "3      -1  ...         0         0         0         0         0         0   \n",
              "4       0  ...         1         0         0         0         0         0   \n",
              "\n",
              "   Hero_110  Hero_111  Hero_112  Hero_113  \n",
              "0         0         0         0         0  \n",
              "1         0         0         0         0  \n",
              "2         0         0         0         0  \n",
              "3         0         0         0         0  \n",
              "4         0         0         0        -1  \n",
              "\n",
              "[5 rows x 117 columns]"
            ],
            "text/html": [
              "\n",
              "  <div id=\"df-536c8252-e6ba-43c9-85df-ca1f4835a490\">\n",
              "    <div class=\"colab-df-container\">\n",
              "      <div>\n",
              "<style scoped>\n",
              "    .dataframe tbody tr th:only-of-type {\n",
              "        vertical-align: middle;\n",
              "    }\n",
              "\n",
              "    .dataframe tbody tr th {\n",
              "        vertical-align: top;\n",
              "    }\n",
              "\n",
              "    .dataframe thead th {\n",
              "        text-align: right;\n",
              "    }\n",
              "</style>\n",
              "<table border=\"1\" class=\"dataframe\">\n",
              "  <thead>\n",
              "    <tr style=\"text-align: right;\">\n",
              "      <th></th>\n",
              "      <th>Won</th>\n",
              "      <th>Server</th>\n",
              "      <th>Game_mode</th>\n",
              "      <th>Game_type</th>\n",
              "      <th>Hero_1</th>\n",
              "      <th>Hero_2</th>\n",
              "      <th>Hero_3</th>\n",
              "      <th>Hero_4</th>\n",
              "      <th>Hero_5</th>\n",
              "      <th>Hero_6</th>\n",
              "      <th>...</th>\n",
              "      <th>Hero_104</th>\n",
              "      <th>Hero_105</th>\n",
              "      <th>Hero_106</th>\n",
              "      <th>Hero_107</th>\n",
              "      <th>Hero_108</th>\n",
              "      <th>Hero_109</th>\n",
              "      <th>Hero_110</th>\n",
              "      <th>Hero_111</th>\n",
              "      <th>Hero_112</th>\n",
              "      <th>Hero_113</th>\n",
              "    </tr>\n",
              "  </thead>\n",
              "  <tbody>\n",
              "    <tr>\n",
              "      <th>0</th>\n",
              "      <td>1</td>\n",
              "      <td>152</td>\n",
              "      <td>2</td>\n",
              "      <td>2</td>\n",
              "      <td>0</td>\n",
              "      <td>0</td>\n",
              "      <td>0</td>\n",
              "      <td>1</td>\n",
              "      <td>0</td>\n",
              "      <td>-1</td>\n",
              "      <td>...</td>\n",
              "      <td>0</td>\n",
              "      <td>0</td>\n",
              "      <td>0</td>\n",
              "      <td>0</td>\n",
              "      <td>0</td>\n",
              "      <td>0</td>\n",
              "      <td>0</td>\n",
              "      <td>0</td>\n",
              "      <td>0</td>\n",
              "      <td>0</td>\n",
              "    </tr>\n",
              "    <tr>\n",
              "      <th>1</th>\n",
              "      <td>1</td>\n",
              "      <td>131</td>\n",
              "      <td>2</td>\n",
              "      <td>2</td>\n",
              "      <td>0</td>\n",
              "      <td>0</td>\n",
              "      <td>0</td>\n",
              "      <td>1</td>\n",
              "      <td>0</td>\n",
              "      <td>-1</td>\n",
              "      <td>...</td>\n",
              "      <td>0</td>\n",
              "      <td>0</td>\n",
              "      <td>0</td>\n",
              "      <td>0</td>\n",
              "      <td>0</td>\n",
              "      <td>0</td>\n",
              "      <td>0</td>\n",
              "      <td>0</td>\n",
              "      <td>0</td>\n",
              "      <td>0</td>\n",
              "    </tr>\n",
              "    <tr>\n",
              "      <th>2</th>\n",
              "      <td>1</td>\n",
              "      <td>154</td>\n",
              "      <td>2</td>\n",
              "      <td>2</td>\n",
              "      <td>0</td>\n",
              "      <td>0</td>\n",
              "      <td>0</td>\n",
              "      <td>0</td>\n",
              "      <td>0</td>\n",
              "      <td>0</td>\n",
              "      <td>...</td>\n",
              "      <td>-1</td>\n",
              "      <td>0</td>\n",
              "      <td>0</td>\n",
              "      <td>0</td>\n",
              "      <td>0</td>\n",
              "      <td>0</td>\n",
              "      <td>0</td>\n",
              "      <td>0</td>\n",
              "      <td>0</td>\n",
              "      <td>0</td>\n",
              "    </tr>\n",
              "    <tr>\n",
              "      <th>3</th>\n",
              "      <td>-1</td>\n",
              "      <td>171</td>\n",
              "      <td>2</td>\n",
              "      <td>3</td>\n",
              "      <td>0</td>\n",
              "      <td>0</td>\n",
              "      <td>0</td>\n",
              "      <td>0</td>\n",
              "      <td>0</td>\n",
              "      <td>-1</td>\n",
              "      <td>...</td>\n",
              "      <td>0</td>\n",
              "      <td>0</td>\n",
              "      <td>0</td>\n",
              "      <td>0</td>\n",
              "      <td>0</td>\n",
              "      <td>0</td>\n",
              "      <td>0</td>\n",
              "      <td>0</td>\n",
              "      <td>0</td>\n",
              "      <td>0</td>\n",
              "    </tr>\n",
              "    <tr>\n",
              "      <th>4</th>\n",
              "      <td>1</td>\n",
              "      <td>122</td>\n",
              "      <td>2</td>\n",
              "      <td>3</td>\n",
              "      <td>0</td>\n",
              "      <td>1</td>\n",
              "      <td>0</td>\n",
              "      <td>0</td>\n",
              "      <td>0</td>\n",
              "      <td>0</td>\n",
              "      <td>...</td>\n",
              "      <td>1</td>\n",
              "      <td>0</td>\n",
              "      <td>0</td>\n",
              "      <td>0</td>\n",
              "      <td>0</td>\n",
              "      <td>0</td>\n",
              "      <td>0</td>\n",
              "      <td>0</td>\n",
              "      <td>0</td>\n",
              "      <td>-1</td>\n",
              "    </tr>\n",
              "  </tbody>\n",
              "</table>\n",
              "<p>5 rows × 117 columns</p>\n",
              "</div>\n",
              "      <button class=\"colab-df-convert\" onclick=\"convertToInteractive('df-536c8252-e6ba-43c9-85df-ca1f4835a490')\"\n",
              "              title=\"Convert this dataframe to an interactive table.\"\n",
              "              style=\"display:none;\">\n",
              "        \n",
              "  <svg xmlns=\"http://www.w3.org/2000/svg\" height=\"24px\"viewBox=\"0 0 24 24\"\n",
              "       width=\"24px\">\n",
              "    <path d=\"M0 0h24v24H0V0z\" fill=\"none\"/>\n",
              "    <path d=\"M18.56 5.44l.94 2.06.94-2.06 2.06-.94-2.06-.94-.94-2.06-.94 2.06-2.06.94zm-11 1L8.5 8.5l.94-2.06 2.06-.94-2.06-.94L8.5 2.5l-.94 2.06-2.06.94zm10 10l.94 2.06.94-2.06 2.06-.94-2.06-.94-.94-2.06-.94 2.06-2.06.94z\"/><path d=\"M17.41 7.96l-1.37-1.37c-.4-.4-.92-.59-1.43-.59-.52 0-1.04.2-1.43.59L10.3 9.45l-7.72 7.72c-.78.78-.78 2.05 0 2.83L4 21.41c.39.39.9.59 1.41.59.51 0 1.02-.2 1.41-.59l7.78-7.78 2.81-2.81c.8-.78.8-2.07 0-2.86zM5.41 20L4 18.59l7.72-7.72 1.47 1.35L5.41 20z\"/>\n",
              "  </svg>\n",
              "      </button>\n",
              "      \n",
              "  <style>\n",
              "    .colab-df-container {\n",
              "      display:flex;\n",
              "      flex-wrap:wrap;\n",
              "      gap: 12px;\n",
              "    }\n",
              "\n",
              "    .colab-df-convert {\n",
              "      background-color: #E8F0FE;\n",
              "      border: none;\n",
              "      border-radius: 50%;\n",
              "      cursor: pointer;\n",
              "      display: none;\n",
              "      fill: #1967D2;\n",
              "      height: 32px;\n",
              "      padding: 0 0 0 0;\n",
              "      width: 32px;\n",
              "    }\n",
              "\n",
              "    .colab-df-convert:hover {\n",
              "      background-color: #E2EBFA;\n",
              "      box-shadow: 0px 1px 2px rgba(60, 64, 67, 0.3), 0px 1px 3px 1px rgba(60, 64, 67, 0.15);\n",
              "      fill: #174EA6;\n",
              "    }\n",
              "\n",
              "    [theme=dark] .colab-df-convert {\n",
              "      background-color: #3B4455;\n",
              "      fill: #D2E3FC;\n",
              "    }\n",
              "\n",
              "    [theme=dark] .colab-df-convert:hover {\n",
              "      background-color: #434B5C;\n",
              "      box-shadow: 0px 1px 3px 1px rgba(0, 0, 0, 0.15);\n",
              "      filter: drop-shadow(0px 1px 2px rgba(0, 0, 0, 0.3));\n",
              "      fill: #FFFFFF;\n",
              "    }\n",
              "  </style>\n",
              "\n",
              "      <script>\n",
              "        const buttonEl =\n",
              "          document.querySelector('#df-536c8252-e6ba-43c9-85df-ca1f4835a490 button.colab-df-convert');\n",
              "        buttonEl.style.display =\n",
              "          google.colab.kernel.accessAllowed ? 'block' : 'none';\n",
              "\n",
              "        async function convertToInteractive(key) {\n",
              "          const element = document.querySelector('#df-536c8252-e6ba-43c9-85df-ca1f4835a490');\n",
              "          const dataTable =\n",
              "            await google.colab.kernel.invokeFunction('convertToInteractive',\n",
              "                                                     [key], {});\n",
              "          if (!dataTable) return;\n",
              "\n",
              "          const docLinkHtml = 'Like what you see? Visit the ' +\n",
              "            '<a target=\"_blank\" href=https://colab.research.google.com/notebooks/data_table.ipynb>data table notebook</a>'\n",
              "            + ' to learn more about interactive tables.';\n",
              "          element.innerHTML = '';\n",
              "          dataTable['output_type'] = 'display_data';\n",
              "          await google.colab.output.renderOutput(dataTable, element);\n",
              "          const docLink = document.createElement('div');\n",
              "          docLink.innerHTML = docLinkHtml;\n",
              "          element.appendChild(docLink);\n",
              "        }\n",
              "      </script>\n",
              "    </div>\n",
              "  </div>\n",
              "  "
            ]
          },
          "metadata": {},
          "execution_count": 13
        }
      ]
    },
    {
      "cell_type": "markdown",
      "source": [
        "Save dataset"
      ],
      "metadata": {
        "id": "vuTy-wXpz11S"
      }
    },
    {
      "cell_type": "code",
      "source": [
        "# df_trn.to_csv('/content/drive/MyDrive/Dota2/preprocessed_train.csv', index=False)"
      ],
      "metadata": {
        "id": "ry6t9bUwz3Y3"
      },
      "execution_count": 95,
      "outputs": []
    },
    {
      "cell_type": "markdown",
      "source": [
        "**So we prepared our Dataset**"
      ],
      "metadata": {
        "id": "4k4Xv6eL06_T"
      }
    },
    {
      "cell_type": "code",
      "source": [
        "df_trn.Game_mode.hist(label='Game Mode')\n",
        "df_trn.Game_type.hist(label='Game Type')\n",
        "plt.legend()"
      ],
      "metadata": {
        "id": "Z6ge-7eDy97d",
        "colab": {
          "base_uri": "https://localhost:8080/",
          "height": 447
        },
        "outputId": "be75dfe8-6a23-4ba5-f17a-a64359010024"
      },
      "execution_count": 19,
      "outputs": [
        {
          "output_type": "execute_result",
          "data": {
            "text/plain": [
              "<matplotlib.legend.Legend at 0x7fab5effecb0>"
            ]
          },
          "metadata": {},
          "execution_count": 19
        },
        {
          "output_type": "display_data",
          "data": {
            "text/plain": [
              "<Figure size 640x480 with 1 Axes>"
            ],
            "image/png": "[encoded data removed]"
          },
          "metadata": {}
        }
      ]
    },
    {
      "cell_type": "markdown",
      "source": [
        "The most ferquent Game type are `2:Tournament` and `3:Tutorial`.  \n",
        "The most ferquent Game mode are `2:Captains Mode`, `8:Reverse Captains Mode` and `9:Greeviling Mode`"
      ],
      "metadata": {
        "id": "ywRz--wUdSzk"
      }
    },
    {
      "cell_type": "code",
      "source": [
        "aug = df_trn.iloc[:, 4: ].abs().sum(axis=0)\n",
        "aug"
      ],
      "metadata": {
        "colab": {
          "base_uri": "https://localhost:8080/"
        },
        "id": "B2z4HZmf0XQU",
        "outputId": "50b50a27-8b29-4262-c92d-10ee3f5df77b"
      },
      "execution_count": 25,
      "outputs": [
        {
          "output_type": "execute_result",
          "data": {
            "text/plain": [
              "Hero_1      14973\n",
              "Hero_2      20264\n",
              "Hero_3       2524\n",
              "Hero_4      11702\n",
              "Hero_5      10050\n",
              "            ...  \n",
              "Hero_109     4513\n",
              "Hero_110     3862\n",
              "Hero_111     2637\n",
              "Hero_112     3340\n",
              "Hero_113     1791\n",
              "Length: 113, dtype: int64"
            ]
          },
          "metadata": {},
          "execution_count": 25
        }
      ]
    },
    {
      "cell_type": "code",
      "source": [
        "plt.figure(figsize=(20,5))\n",
        "plt.bar(x=aug.index, height=aug)\n",
        "\n",
        "plt.xticks(rotation=90)\n",
        "plt.show()"
      ],
      "metadata": {
        "colab": {
          "base_uri": "https://localhost:8080/",
          "height": 437
        },
        "id": "i5AhEscp1sMu",
        "outputId": "c76c42aa-817b-42b5-d37f-74079c58d6cd"
      },
      "execution_count": 92,
      "outputs": [
        {
          "output_type": "display_data",
          "data": {
            "text/plain": [
              "<Figure size 2000x500 with 1 Axes>"
            ],
            "image/png": "[encoded data removed]"
          },
          "metadata": {}
        }
      ]
    },
    {
      "cell_type": "code",
      "source": [
        "mask = (aug.sort_values(ascending=False)/aug.sum() * 100) > 1\n",
        "\n",
        "aug[mask].sort_values(ascending=False)"
      ],
      "metadata": {
        "colab": {
          "base_uri": "https://localhost:8080/"
        },
        "id": "zzcEUbgZ2fOc",
        "outputId": "871c6875-3514-4edd-ded9-37238a18035c"
      },
      "execution_count": 46,
      "outputs": [
        {
          "output_type": "execute_result",
          "data": {
            "text/plain": [
              "Hero_9      32048\n",
              "Hero_44     29802\n",
              "Hero_14     28284\n",
              "Hero_104    26521\n",
              "Hero_8      23327\n",
              "Hero_93     23125\n",
              "Hero_6      21700\n",
              "Hero_74     21261\n",
              "Hero_2      20264\n",
              "Hero_32     19669\n",
              "Hero_35     17276\n",
              "Hero_98     17155\n",
              "Hero_18     17028\n",
              "Hero_41     16746\n",
              "Hero_1      14973\n",
              "Hero_21     14473\n",
              "Hero_62     12717\n",
              "Hero_59     12707\n",
              "Hero_54     12361\n",
              "Hero_26     12108\n",
              "Hero_73     12069\n",
              "Hero_4      11702\n",
              "Hero_17     11688\n",
              "Hero_42     11650\n",
              "Hero_34     11558\n",
              "Hero_7      11276\n",
              "Hero_16     11013\n",
              "Hero_28     10877\n",
              "Hero_36     10729\n",
              "Hero_71     10449\n",
              "Hero_11     10410\n",
              "Hero_70     10368\n",
              "Hero_5      10050\n",
              "Hero_22      9967\n",
              "Hero_10      9806\n",
              "Hero_23      9635\n",
              "dtype: int64"
            ]
          },
          "metadata": {},
          "execution_count": 46
        }
      ]
    },
    {
      "cell_type": "code",
      "source": [
        "aug[aug==0]"
      ],
      "metadata": {
        "colab": {
          "base_uri": "https://localhost:8080/"
        },
        "id": "DarbGhMz3hys",
        "outputId": "abf2a7a0-f0c5-42b4-f1f7-6d424f768f7e"
      },
      "execution_count": 47,
      "outputs": [
        {
          "output_type": "execute_result",
          "data": {
            "text/plain": [
              "Hero_24     0\n",
              "Hero_108    0\n",
              "dtype: int64"
            ]
          },
          "metadata": {},
          "execution_count": 47
        }
      ]
    },
    {
      "cell_type": "markdown",
      "source": [
        "AS you can see we should remove these two columns."
      ],
      "metadata": {
        "id": "vf1nCMQR55AV"
      }
    },
    {
      "cell_type": "code",
      "source": [
        "df_trn.drop(columns=['Hero_24', 'Hero_108'], inplace=True)"
      ],
      "metadata": {
        "id": "ys9WJ9NP5XPw"
      },
      "execution_count": 48,
      "outputs": []
    },
    {
      "cell_type": "code",
      "source": [
        "def calc_win_rate(hero):\n",
        "  all = df_trn[df_trn[f'Hero_{hero}'] != 0].loc[:, ['Won', f'Hero_{hero}']]\n",
        "  all_game = all.shape[0]\n",
        "  wins = 0\n",
        "  for i,(w,s) in all.iterrows():\n",
        "    if w == s:\n",
        "      wins += 1\n",
        "  # print('Win_Rate = ', (wins/all_game)*100)\n",
        "  return np.round((wins/all_game)*100, 2)\n",
        "\n",
        "print(calc_win_rate('113'))"
      ],
      "metadata": {
        "colab": {
          "base_uri": "https://localhost:8080/"
        },
        "id": "jaH8L6_I6NiJ",
        "outputId": "27644d81-d556-444c-a75a-4993509fa2f5"
      },
      "execution_count": 66,
      "outputs": [
        {
          "output_type": "stream",
          "name": "stdout",
          "text": [
            "43.33\n"
          ]
        }
      ]
    },
    {
      "cell_type": "code",
      "source": [
        "win_rate = dict()\n",
        "cls = df_trn.iloc[:, 4:].columns\n",
        "for c in cls:\n",
        "  q = c.split('_')[1]\n",
        "  win_rate[f'Hero_{q}'] = calc_win_rate(f'{q}')"
      ],
      "metadata": {
        "id": "4jhCIchU9lMR"
      },
      "execution_count": 67,
      "outputs": []
    },
    {
      "cell_type": "code",
      "source": [
        "win_rate_df = pd.DataFrame(win_rate, index = [0])"
      ],
      "metadata": {
        "id": "0xBhBNabAEHe"
      },
      "execution_count": 73,
      "outputs": []
    },
    {
      "cell_type": "code",
      "source": [
        "win_rate_df"
      ],
      "metadata": {
        "colab": {
          "base_uri": "https://localhost:8080/",
          "height": 174
        },
        "id": "IJEYrJy9BNu4",
        "outputId": "de491bcd-dccb-48d0-c0dc-78531d07f6fe"
      },
      "execution_count": 75,
      "outputs": [
        {
          "output_type": "execute_result",
          "data": {
            "text/plain": [
              "   Hero_1  Hero_2  Hero_3  Hero_4  Hero_5  Hero_6  Hero_7  Hero_8  Hero_9  \\\n",
              "0    46.7    52.7   45.01   50.75   54.77   53.47   50.16   50.44   55.32   \n",
              "\n",
              "   Hero_10  ...  Hero_103  Hero_104  Hero_105  Hero_106  Hero_107  Hero_109  \\\n",
              "0    50.15  ...     58.57     48.71     47.48     42.17     42.61     48.81   \n",
              "\n",
              "   Hero_110  Hero_111  Hero_112  Hero_113  \n",
              "0     51.27     43.42     44.64     43.33  \n",
              "\n",
              "[1 rows x 111 columns]"
            ],
            "text/html": [
              "\n",
              "  <div id=\"df-cb1c2ea3-fe59-41ea-bd39-b336bf40d6f2\">\n",
              "    <div class=\"colab-df-container\">\n",
              "      <div>\n",
              "<style scoped>\n",
              "    .dataframe tbody tr th:only-of-type {\n",
              "        vertical-align: middle;\n",
              "    }\n",
              "\n",
              "    .dataframe tbody tr th {\n",
              "        vertical-align: top;\n",
              "    }\n",
              "\n",
              "    .dataframe thead th {\n",
              "        text-align: right;\n",
              "    }\n",
              "</style>\n",
              "<table border=\"1\" class=\"dataframe\">\n",
              "  <thead>\n",
              "    <tr style=\"text-align: right;\">\n",
              "      <th></th>\n",
              "      <th>Hero_1</th>\n",
              "      <th>Hero_2</th>\n",
              "      <th>Hero_3</th>\n",
              "      <th>Hero_4</th>\n",
              "      <th>Hero_5</th>\n",
              "      <th>Hero_6</th>\n",
              "      <th>Hero_7</th>\n",
              "      <th>Hero_8</th>\n",
              "      <th>Hero_9</th>\n",
              "      <th>Hero_10</th>\n",
              "      <th>...</th>\n",
              "      <th>Hero_103</th>\n",
              "      <th>Hero_104</th>\n",
              "      <th>Hero_105</th>\n",
              "      <th>Hero_106</th>\n",
              "      <th>Hero_107</th>\n",
              "      <th>Hero_109</th>\n",
              "      <th>Hero_110</th>\n",
              "      <th>Hero_111</th>\n",
              "      <th>Hero_112</th>\n",
              "      <th>Hero_113</th>\n",
              "    </tr>\n",
              "  </thead>\n",
              "  <tbody>\n",
              "    <tr>\n",
              "      <th>0</th>\n",
              "      <td>46.7</td>\n",
              "      <td>52.7</td>\n",
              "      <td>45.01</td>\n",
              "      <td>50.75</td>\n",
              "      <td>54.77</td>\n",
              "      <td>53.47</td>\n",
              "      <td>50.16</td>\n",
              "      <td>50.44</td>\n",
              "      <td>55.32</td>\n",
              "      <td>50.15</td>\n",
              "      <td>...</td>\n",
              "      <td>58.57</td>\n",
              "      <td>48.71</td>\n",
              "      <td>47.48</td>\n",
              "      <td>42.17</td>\n",
              "      <td>42.61</td>\n",
              "      <td>48.81</td>\n",
              "      <td>51.27</td>\n",
              "      <td>43.42</td>\n",
              "      <td>44.64</td>\n",
              "      <td>43.33</td>\n",
              "    </tr>\n",
              "  </tbody>\n",
              "</table>\n",
              "<p>1 rows × 111 columns</p>\n",
              "</div>\n",
              "      <button class=\"colab-df-convert\" onclick=\"convertToInteractive('df-cb1c2ea3-fe59-41ea-bd39-b336bf40d6f2')\"\n",
              "              title=\"Convert this dataframe to an interactive table.\"\n",
              "              style=\"display:none;\">\n",
              "        \n",
              "  <svg xmlns=\"http://www.w3.org/2000/svg\" height=\"24px\"viewBox=\"0 0 24 24\"\n",
              "       width=\"24px\">\n",
              "    <path d=\"M0 0h24v24H0V0z\" fill=\"none\"/>\n",
              "    <path d=\"M18.56 5.44l.94 2.06.94-2.06 2.06-.94-2.06-.94-.94-2.06-.94 2.06-2.06.94zm-11 1L8.5 8.5l.94-2.06 2.06-.94-2.06-.94L8.5 2.5l-.94 2.06-2.06.94zm10 10l.94 2.06.94-2.06 2.06-.94-2.06-.94-.94-2.06-.94 2.06-2.06.94z\"/><path d=\"M17.41 7.96l-1.37-1.37c-.4-.4-.92-.59-1.43-.59-.52 0-1.04.2-1.43.59L10.3 9.45l-7.72 7.72c-.78.78-.78 2.05 0 2.83L4 21.41c.39.39.9.59 1.41.59.51 0 1.02-.2 1.41-.59l7.78-7.78 2.81-2.81c.8-.78.8-2.07 0-2.86zM5.41 20L4 18.59l7.72-7.72 1.47 1.35L5.41 20z\"/>\n",
              "  </svg>\n",
              "      </button>\n",
              "      \n",
              "  <style>\n",
              "    .colab-df-container {\n",
              "      display:flex;\n",
              "      flex-wrap:wrap;\n",
              "      gap: 12px;\n",
              "    }\n",
              "\n",
              "    .colab-df-convert {\n",
              "      background-color: #E8F0FE;\n",
              "      border: none;\n",
              "      border-radius: 50%;\n",
              "      cursor: pointer;\n",
              "      display: none;\n",
              "      fill: #1967D2;\n",
              "      height: 32px;\n",
              "      padding: 0 0 0 0;\n",
              "      width: 32px;\n",
              "    }\n",
              "\n",
              "    .colab-df-convert:hover {\n",
              "      background-color: #E2EBFA;\n",
              "      box-shadow: 0px 1px 2px rgba(60, 64, 67, 0.3), 0px 1px 3px 1px rgba(60, 64, 67, 0.15);\n",
              "      fill: #174EA6;\n",
              "    }\n",
              "\n",
              "    [theme=dark] .colab-df-convert {\n",
              "      background-color: #3B4455;\n",
              "      fill: #D2E3FC;\n",
              "    }\n",
              "\n",
              "    [theme=dark] .colab-df-convert:hover {\n",
              "      background-color: #434B5C;\n",
              "      box-shadow: 0px 1px 3px 1px rgba(0, 0, 0, 0.15);\n",
              "      filter: drop-shadow(0px 1px 2px rgba(0, 0, 0, 0.3));\n",
              "      fill: #FFFFFF;\n",
              "    }\n",
              "  </style>\n",
              "\n",
              "      <script>\n",
              "        const buttonEl =\n",
              "          document.querySelector('#df-cb1c2ea3-fe59-41ea-bd39-b336bf40d6f2 button.colab-df-convert');\n",
              "        buttonEl.style.display =\n",
              "          google.colab.kernel.accessAllowed ? 'block' : 'none';\n",
              "\n",
              "        async function convertToInteractive(key) {\n",
              "          const element = document.querySelector('#df-cb1c2ea3-fe59-41ea-bd39-b336bf40d6f2');\n",
              "          const dataTable =\n",
              "            await google.colab.kernel.invokeFunction('convertToInteractive',\n",
              "                                                     [key], {});\n",
              "          if (!dataTable) return;\n",
              "\n",
              "          const docLinkHtml = 'Like what you see? Visit the ' +\n",
              "            '<a target=\"_blank\" href=https://colab.research.google.com/notebooks/data_table.ipynb>data table notebook</a>'\n",
              "            + ' to learn more about interactive tables.';\n",
              "          element.innerHTML = '';\n",
              "          dataTable['output_type'] = 'display_data';\n",
              "          await google.colab.output.renderOutput(dataTable, element);\n",
              "          const docLink = document.createElement('div');\n",
              "          docLink.innerHTML = docLinkHtml;\n",
              "          element.appendChild(docLink);\n",
              "        }\n",
              "      </script>\n",
              "    </div>\n",
              "  </div>\n",
              "  "
            ]
          },
          "metadata": {},
          "execution_count": 75
        }
      ]
    },
    {
      "cell_type": "code",
      "source": [
        "plt.figure(figsize=(20,5))\n",
        "plt.bar(x=win_rate_df.columns, height=win_rate_df.values[0])\n",
        "\n",
        "plt.xticks(rotation=90)\n",
        "plt.show()"
      ],
      "metadata": {
        "colab": {
          "base_uri": "https://localhost:8080/",
          "height": 443
        },
        "id": "A-u60fGDCWdQ",
        "outputId": "b0b83e41-0885-4da8-f132-592e102272dd"
      },
      "execution_count": 87,
      "outputs": [
        {
          "output_type": "display_data",
          "data": {
            "text/plain": [
              "<Figure size 2000x500 with 1 Axes>"
            ],
            "image/png": "[encoded data removed]"
          },
          "metadata": {}
        }
      ]
    },
    {
      "cell_type": "code",
      "source": [
        "df_trn[df_trn['Hero_57'] != 0].shape, df_trn[df_trn['Hero_113'] != 0].shape"
      ],
      "metadata": {
        "colab": {
          "base_uri": "https://localhost:8080/"
        },
        "id": "Rwr59dsJCjQs",
        "outputId": "c6a056e7-8ab4-4cc0-b48f-5592ce825ca5"
      },
      "execution_count": 93,
      "outputs": [
        {
          "output_type": "execute_result",
          "data": {
            "text/plain": [
              "((8320, 115), (1791, 115))"
            ]
          },
          "metadata": {},
          "execution_count": 93
        }
      ]
    },
    {
      "cell_type": "markdown",
      "source": [
        "So as you can see here `Hero_91` has **lowest win rate** unless name of the hero is `Wisp` and with a few search we can find out that **pro player** pick this hero **more** than number we saw here and also this hero has **higher win rate**.\n",
        "\n",
        "---\n",
        "\n",
        "> So here in this dataset we have all games in 2016 and this is not just pro players games (TI event), this is also include other players game such as public games in 2016.\n",
        "\n",
        "> One thing else is if we assume this data set is just for TI event we have to have much less game rather than we see here in this data set."
      ],
      "metadata": {
        "id": "TF9I98_FF15g"
      }
    },
    {
      "cell_type": "code",
      "source": [
        "mask = df_trn.Server.value_counts(normalize=True) * 100 > 2\n",
        "df_trn.Server.value_counts()[mask]"
      ],
      "metadata": {
        "colab": {
          "base_uri": "https://localhost:8080/"
        },
        "id": "SguJgpCbEeXs",
        "outputId": "d7a77e22-d17b-4a9a-fb11-61cfe5d0b372"
      },
      "execution_count": 106,
      "outputs": [
        {
          "output_type": "execute_result",
          "data": {
            "text/plain": [
              "227    7874\n",
              "154    7013\n",
              "156    6899\n",
              "151    6848\n",
              "153    6757\n",
              "152    6715\n",
              "155    6611\n",
              "224    5963\n",
              "231    3666\n",
              "223    3500\n",
              "225    2643\n",
              "Name: Server, dtype: int64"
            ]
          },
          "metadata": {},
          "execution_count": 106
        }
      ]
    },
    {
      "cell_type": "markdown",
      "source": [
        "As we saw above results we see that 154 and 156 are one of the top servers but if we look at api of server we see both of them are for one specific region.\n",
        "So we need some prepration on `Server` column."
      ],
      "metadata": {
        "id": "iaI9lNRINXft"
      }
    },
    {
      "cell_type": "code",
      "source": [
        "regions= [\n",
        "        {\n",
        "            \"id\" : 111,\n",
        "            \"name\" : \"US West\"\n",
        "        },\n",
        "        {\n",
        "            \"id\" : 112,\n",
        "            \"name\" : \"US West\"\n",
        "        },\n",
        "        {\n",
        "            \"id\" : 113,\n",
        "            \"name\" : \"US West\"\n",
        "        },\n",
        "        {\n",
        "            \"id\" : 114,\n",
        "            \"name\" : \"US West\"\n",
        "        },\n",
        "        {\n",
        "            \"id\" : 121,\n",
        "            \"name\" : \"US East\"\n",
        "        },\n",
        "        {\n",
        "            \"id\" : 122,\n",
        "            \"name\" : \"US East\"\n",
        "        },\n",
        "        {\n",
        "            \"id\" : 123,\n",
        "            \"name\" : \"US East\"\n",
        "        },\n",
        "        {\n",
        "            \"id\" : 124,\n",
        "            \"name\" : \"US East\"\n",
        "        },\n",
        "        {\n",
        "            \"id\" : 131,\n",
        "            \"name\" : \"Europe West\"\n",
        "        },\n",
        "        {\n",
        "            \"id\" : 132,\n",
        "            \"name\" : \"Europe West\"\n",
        "        },\n",
        "        {\n",
        "            \"id\" : 133,\n",
        "            \"name\" : \"Europe West\"\n",
        "        },\n",
        "        {\n",
        "            \"id\" : 134,\n",
        "            \"name\" : \"Europe West\"\n",
        "        },\n",
        "        {\n",
        "            \"id\" : 135,\n",
        "            \"name\" : \"Europe West\"\n",
        "        },\n",
        "        {\n",
        "            \"id\" : 136,\n",
        "            \"name\" : \"Europe West\"\n",
        "        },\n",
        "        {\n",
        "            \"id\" : 137,\n",
        "            \"name\" : \"Europe West\"\n",
        "        },\n",
        "        {\n",
        "            \"id\" : 138,\n",
        "            \"name\" : \"Europe West\"\n",
        "        },\n",
        "        {\n",
        "            \"id\" : 142 ,\n",
        "            \"name\" : \"South Korea\"\n",
        "        },\n",
        "        {\n",
        "            \"id\" : 143,\n",
        "            \"name\" : \"South Korea\"\n",
        "        },\n",
        "        {\n",
        "            \"id\" : 144,\n",
        "            \"name\" : \"South Korea\"\n",
        "        },\n",
        "        {\n",
        "            \"id\" : 145,\n",
        "            \"name\" : \"South Korea\"\n",
        "        },\n",
        "        {\n",
        "            \"id\" : 151 ,\n",
        "            \"name\" : \"Southeast Asia\"\n",
        "        },\n",
        "        {\n",
        "            \"id\" : 152,\n",
        "            \"name\" : \"Southeast Asia\"\n",
        "        },\n",
        "        {\n",
        "            \"id\" : 153,\n",
        "            \"name\" : \"Southeast Asia\"\n",
        "        },\n",
        "        {\n",
        "            \"id\" : 154,\n",
        "            \"name\" : \"Southeast Asia\"\n",
        "        },\n",
        "        {\n",
        "            \"id\" : 155,\n",
        "            \"name\" : \"Southeast Asia\"\n",
        "        },\n",
        "        {\n",
        "            \"id\" : 156,\n",
        "            \"name\" : \"Southeast Asia\"\n",
        "        },\n",
        "        {\n",
        "            \"id\" : 161,\n",
        "            \"name\" : \"China\"\n",
        "        },\n",
        "        {\n",
        "            \"id\" : 163,\n",
        "            \"name\" : \"China\"\n",
        "        },\n",
        "        {\n",
        "            \"id\" : 171,\n",
        "            \"name\": \"Australia\"\n",
        "        },\n",
        "        {\n",
        "            \"id\" : 181,\n",
        "            \"name\" : \"Russia\"\n",
        "        },\n",
        "        {\n",
        "            \"id\" : 182,\n",
        "            \"name\" : \"Russia\"\n",
        "        },\n",
        "        {\n",
        "            \"id\" : 183,\n",
        "            \"name\" : \"Russia\"\n",
        "        },\n",
        "        {\n",
        "            \"id\" : 184,\n",
        "            \"name\" : \"Russia\"\n",
        "        },\n",
        "        {\n",
        "            \"id\" : 185,\n",
        "            \"name\" : \"Russia\"\n",
        "        },\n",
        "        {\n",
        "            \"id\" : 186,\n",
        "            \"name\" : \"Russia\"\n",
        "        },\n",
        "        {\n",
        "            \"id\" : 187,\n",
        "            \"name\" : \"Russia\"\n",
        "        },\n",
        "        {\n",
        "            \"id\" : 188,\n",
        "            \"name\" : \"Russia\"\n",
        "        },\n",
        "        {\n",
        "            \"id\" : 191,\n",
        "            \"name\" : \"Europe East\"\n",
        "        },\n",
        "        {\n",
        "            \"id\" : 192,\n",
        "            \"name\" : \"Europe East\"\n",
        "        },\n",
        "        {\n",
        "            \"id\" : 200,\n",
        "            \"name\" : \"South America\"\n",
        "        },\n",
        "        {\n",
        "            \"id\" : 202,\n",
        "            \"name\" : \"South America\"\n",
        "        },\n",
        "        {\n",
        "            \"id\" : 203,\n",
        "            \"name\" : \"South America\"\n",
        "        },\n",
        "        {\n",
        "            \"id\" : 204,\n",
        "            \"name\" : \"South America\"\n",
        "        },\n",
        "        {\n",
        "            \"id\" : 211,\n",
        "            \"name\" : \"South Africa\"\n",
        "        },\n",
        "        {\n",
        "            \"id\" : 212,\n",
        "            \"name\" : \"South Africa\"\n",
        "        },\n",
        "        {\n",
        "            \"id\" : 213,\n",
        "            \"name\" : \"South Africa\"\n",
        "        },\n",
        "        {\n",
        "            \"id\" : 221,\n",
        "            \"name\" : \"China\"\n",
        "        },\n",
        "        {\n",
        "            \"id\" : 222,\n",
        "            \"name\" : \"China\"\n",
        "        },\n",
        "        {\n",
        "            \"id\" : 223,\n",
        "            \"name\" : \"China\"\n",
        "        },\n",
        "        {\n",
        "            \"id\" : 224,\n",
        "            \"name\" : \"China\"\n",
        "        },\n",
        "        {\n",
        "            \"id\" : 225,\n",
        "            \"name\" : \"China\"\n",
        "        },\n",
        "        {\n",
        "            \"id\" : 227,\n",
        "            \"name\" : \"China\"\n",
        "        },\n",
        "        {\n",
        "            \"id\" : 231,\n",
        "            \"name\" : \"China\"\n",
        "        },\n",
        "        {\n",
        "            \"id\" : 241,\n",
        "            \"name\" : \"Chile\"\n",
        "        },\n",
        "        {\n",
        "            \"id\" : 242,\n",
        "            \"name\" : \"Chile\"\n",
        "        },\n",
        "        {\n",
        "            \"id\" : 251,\n",
        "            \"name\" : \"Peru\"\n",
        "        },\n",
        "        {\n",
        "            \"id\" : 261,\n",
        "            \"name\" : \"India\"\n",
        "        }\n",
        "    ]"
      ],
      "metadata": {
        "id": "3LKmFIFvMC45"
      },
      "execution_count": 108,
      "outputs": []
    },
    {
      "cell_type": "code",
      "source": [
        "server_name = []\n",
        "server_encode = []\n",
        "for i in regions:\n",
        "  server_name.append(i['name'])\n",
        "  server_encode.append(i['id'])"
      ],
      "metadata": {
        "id": "PfrzbOaaRI5K"
      },
      "execution_count": 128,
      "outputs": []
    },
    {
      "cell_type": "code",
      "source": [
        "for i in np.unique(df_trn.Server):\n",
        "  if i in server_encode:\n",
        "    pass\n",
        "  else:\n",
        "    print(i)"
      ],
      "metadata": {
        "colab": {
          "base_uri": "https://localhost:8080/"
        },
        "id": "DbCjeXIuP6D4",
        "outputId": "324851bb-93dd-4081-c042-0e00c95e5436"
      },
      "execution_count": 134,
      "outputs": [
        {
          "output_type": "stream",
          "name": "stdout",
          "text": [
            "232\n"
          ]
        }
      ]
    },
    {
      "cell_type": "markdown",
      "source": [
        "We can see Server 232 is not in our region list, so we name it Unknown server."
      ],
      "metadata": {
        "id": "FrvojhtPU93F"
      }
    },
    {
      "cell_type": "code",
      "source": [
        "reg_server = []\n",
        "for i in df_trn.Server:\n",
        "  for x, y in zip(server_name, server_encode):\n",
        "    if i == y:\n",
        "      reg_server.append(x)\n",
        "      break\n",
        "    elif i == 232:\n",
        "      reg_server.append('Unknown')\n",
        "      break"
      ],
      "metadata": {
        "id": "NllWinTcUkPq"
      },
      "execution_count": 141,
      "outputs": []
    },
    {
      "cell_type": "code",
      "source": [
        "len(reg_server), df_trn.Server.shape"
      ],
      "metadata": {
        "colab": {
          "base_uri": "https://localhost:8080/"
        },
        "id": "oW00YmYZVVaA",
        "outputId": "4c414e70-544f-4f85-fb79-3ea587e0d3a7"
      },
      "execution_count": 142,
      "outputs": [
        {
          "output_type": "execute_result",
          "data": {
            "text/plain": [
              "(92649, (92649,))"
            ]
          },
          "metadata": {},
          "execution_count": 142
        }
      ]
    },
    {
      "cell_type": "code",
      "source": [
        "df_trn['Region'] = reg_server"
      ],
      "metadata": {
        "id": "sE43rqcDVbk-"
      },
      "execution_count": 143,
      "outputs": []
    },
    {
      "cell_type": "code",
      "source": [
        "# re-arrange columns\n",
        "new_heros = df_trn.iloc[0,4:-1].index.to_list()\n",
        "cls = ['Won', 'Region', 'Server', 'Game_mode', 'Game_type'] + new_heros\n",
        "\n",
        "# save a original copy\n",
        "orig_df = df_trn.copy()\n",
        "\n",
        "df_trn = df_trn[cls]"
      ],
      "metadata": {
        "id": "cDEE8b00V0VU"
      },
      "execution_count": 154,
      "outputs": []
    },
    {
      "cell_type": "code",
      "source": [
        "df_trn.Region.value_counts().plot.bar()"
      ],
      "metadata": {
        "colab": {
          "base_uri": "https://localhost:8080/",
          "height": 536
        },
        "id": "UR5Ul_JHXA6I",
        "outputId": "7b384aad-d041-44e4-eec7-e1bef1d5765b"
      },
      "execution_count": 156,
      "outputs": [
        {
          "output_type": "execute_result",
          "data": {
            "text/plain": [
              "<Axes: >"
            ]
          },
          "metadata": {},
          "execution_count": 156
        },
        {
          "output_type": "display_data",
          "data": {
            "text/plain": [
              "<Figure size 640x480 with 1 Axes>"
            ],
            "image/png": "[encoded data removed]"
          },
          "metadata": {}
        }
      ]
    },
    {
      "cell_type": "markdown",
      "source": [
        "As we can see the most server usage is `Southeast Asia`\n",
        "and we a few search we find out that in 2016 and 2017 we had 16 server that i listed below:\n",
        "> Southeast Asia, China, Russia, Europe West, US East, South Korea, Europe East, `Japan`, `Dubai`, US West, South America, Australia, India, Peru, Chile, South Africa.  \n",
        "\n",
        "One thing else i think worth nothing to say is we have `Unknown` server in our dataset and we think some of `Unknown` servers are `Japan` and some others are `Dubai`.  "
      ],
      "metadata": {
        "id": "qCpwBCR7aCxs"
      }
    },
    {
      "cell_type": "code",
      "source": [],
      "metadata": {
        "id": "wIwhkQUUYfmJ"
      },
      "execution_count": null,
      "outputs": []
    }
  ]
}